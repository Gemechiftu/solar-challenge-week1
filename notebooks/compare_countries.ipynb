{
 "cells": [
  {
   "cell_type": "code",
   "execution_count": null,
   "id": "fcd30c67",
   "metadata": {
    "vscode": {
     "languageId": "plaintext"
    }
   },
   "outputs": [],
   "source": [
    "import pandas as pd\n",
    "\n",
    "benin = pd.read_csv('data/benin_clean.csv')\n",
    "togo = pd.read_csv('data/togo_clean.csv')\n",
    "sierra = pd.read_csv('data/sierra_leone_clean.csv')\n",
    "\n",
    "# Add country column\n",
    "benin['Country'] = 'Benin'\n",
    "togo['Country'] = 'Togo'\n",
    "sierra['Country'] = 'Sierra Leone'\n",
    "\n",
    "# Combine all\n",
    "df_all = pd.concat([benin, togo, sierra], ignore_index=True)\n"
   ]
  },
  {
   "cell_type": "code",
   "execution_count": null,
   "id": "adaeb042",
   "metadata": {
    "vscode": {
     "languageId": "plaintext"
    }
   },
   "outputs": [],
   "source": [
    "import seaborn as sns\n",
    "import matplotlib.pyplot as plt\n",
    "\n",
    "metrics = ['GHI', 'DNI', 'DHI']\n",
    "\n",
    "for metric in metrics:\n",
    "    plt.figure(figsize=(8,5))\n",
    "    sns.boxplot(x='Country', y=metric, data=df_all)\n",
    "    plt.title(f'{metric} Comparison Across Countries')\n",
    "    plt.show()\n"
   ]
  },
  {
   "cell_type": "code",
   "execution_count": null,
   "id": "e91ec704",
   "metadata": {
    "vscode": {
     "languageId": "plaintext"
    }
   },
   "outputs": [],
   "source": [
    "summary = df_all.groupby('Country')[['GHI', 'DNI', 'DHI']].agg(['mean', 'median', 'std']).round(2)\n",
    "summary\n"
   ]
  },
  {
   "cell_type": "code",
   "execution_count": null,
   "id": "74b23e90",
   "metadata": {
    "vscode": {
     "languageId": "plaintext"
    }
   },
   "outputs": [],
   "source": [
    "from scipy.stats import f_oneway\n",
    "\n",
    "f_stat, p_val = f_oneway(\n",
    "    benin['GHI'],\n",
    "    togo['GHI'],\n",
    "    sierra['GHI']\n",
    ")\n",
    "\n",
    "print(f\"F-statistic: {f_stat:.2f}, p-value: {p_val:.4f}\")\n"
   ]
  },
  {
   "cell_type": "code",
   "execution_count": null,
   "id": "5f48469f",
   "metadata": {
    "vscode": {
     "languageId": "plaintext"
    }
   },
   "outputs": [],
   "source": [
    "- Benin shows the highest average GHI, indicating strong solar potential.\n",
    "- Sierra Leone has more variability in DHI compared to others.\n",
    "- Togo displays the lowest median DNI, suggesting less direct solar radiation.\n"
   ]
  },
  {
   "cell_type": "code",
   "execution_count": null,
   "id": "aa5e48ea",
   "metadata": {
    "vscode": {
     "languageId": "plaintext"
    }
   },
   "outputs": [],
   "source": [
    "avg_ghi = df_all.groupby('Country')['GHI'].mean().sort_values()\n",
    "\n",
    "avg_ghi.plot(kind='barh', figsize=(6,4), title=\"Average GHI per Country\")\n",
    "plt.xlabel(\"GHI\")\n",
    "plt.show()\n"
   ]
  }
 ],
 "metadata": {
  "language_info": {
   "name": "python"
  }
 },
 "nbformat": 4,
 "nbformat_minor": 5
}
