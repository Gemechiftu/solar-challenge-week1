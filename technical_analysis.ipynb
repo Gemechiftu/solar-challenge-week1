{
 "cells": [
  {
   "cell_type": "code",
   "execution_count": null,
   "id": "3b48da16",
   "metadata": {
    "vscode": {
     "languageId": "plaintext"
    }
   },
   "outputs": [],
   "source": [
    "import pandas as pd\n",
    "import matplotlib.pyplot as plt\n",
    "\n",
    "df = pd.read_csv('data/your_stock_data.csv', parse_dates=['Date'])\n",
    "df.set_index('Date', inplace=True)\n",
    "df.head()\n"
   ]
  },
  {
   "cell_type": "code",
   "execution_count": null,
   "id": "cfd97e7f",
   "metadata": {
    "vscode": {
     "languageId": "plaintext"
    }
   },
   "outputs": [],
   "source": [
    "import talib\n",
    "\n",
    "df['SMA_20'] = talib.SMA(df['Close'], timeperiod=20)\n",
    "df['RSI'] = talib.RSI(df['Close'], timeperiod=14)\n",
    "df['MACD'], df['MACD_signal'], _ = talib.MACD(df['Close'])\n"
   ]
  },
  {
   "cell_type": "code",
   "execution_count": null,
   "id": "03e7128d",
   "metadata": {
    "vscode": {
     "languageId": "plaintext"
    }
   },
   "outputs": [],
   "source": [
    "# SMA and close price\n",
    "df[['Close', 'SMA_20']].plot(title=\"Close Price with SMA 20\")\n",
    "plt.show()\n",
    "\n",
    "# RSI\n",
    "df['RSI'].plot(title=\"Relative Strength Index (RSI)\")\n",
    "plt.axhline(70, color='r', linestyle='--')\n",
    "plt.axhline(30, color='g', linestyle='--')\n",
    "plt.show()\n",
    "\n",
    "# MACD\n",
    "df[['MACD', 'MACD_signal']].plot(title=\"MACD and Signal Line\")\n",
    "plt.show()\n",
    "\n"
   ]
  },
  {
   "cell_type": "code",
   "execution_count": null,
   "id": "6edd194b",
   "metadata": {
    "vscode": {
     "languageId": "plaintext"
    }
   },
   "outputs": [],
   "source": [
    "# SMA and close price\n",
    "df[['Close', 'SMA_20']].plot(title=\"Close Price with SMA 20\")\n",
    "plt.show()\n",
    "\n",
    "# RSI\n",
    "df['RSI'].plot(title=\"Relative Strength Index (RSI)\")\n",
    "plt.axhline(70, color='r', linestyle='--')\n",
    "plt.axhline(30, color='g', linestyle='--')\n",
    "plt.show()\n",
    "\n",
    "# MACD\n",
    "df[['MACD', 'MACD_signal']].plot(title=\"MACD and Signal Line\")\n",
    "plt.show()\n"
   ]
  }
 ],
 "metadata": {
  "language_info": {
   "name": "python"
  }
 },
 "nbformat": 4,
 "nbformat_minor": 5
}
